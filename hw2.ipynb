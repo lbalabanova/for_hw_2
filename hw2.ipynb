{
 "cells": [
  {
   "cell_type": "markdown",
   "metadata": {},
   "source": [
    "Домашняя работа \"Введение в типы данных и циклы. Часть 1\""
   ]
  },
  {
   "cell_type": "markdown",
   "metadata": {},
   "source": [
    "Задание 1\n",
    "\n",
    "Дана переменная, в которой хранится слово из латинских букв. Напишите код, который выводит на экран:\n",
    "среднюю букву, если число букв в слове нечетное;\n",
    "две средних буквы, если число букв четное."
   ]
  },
  {
   "cell_type": "code",
   "execution_count": 20,
   "metadata": {},
   "outputs": [
    {
     "name": "stdout",
     "output_type": "stream",
     "text": [
      "t\n"
     ]
    }
   ],
   "source": [
    "my_word = 'testing'\n",
    "word_len = len(my_word)\n",
    "mid = word_len // 2\n",
    "if word_len % 2 == 0:\n",
    "    print(my_word[(mid-1):(mid+1)])\n",
    "else:\n",
    "    print(my_word[mid])"
   ]
  },
  {
   "cell_type": "markdown",
   "metadata": {},
   "source": [
    "Задание 2\n",
    "\n",
    "Напишите программу, которая последовательно запрашивает у пользователя числа (по одному за раз) и после первого нуля выводит сумму всех ранее введенных чисел."
   ]
  },
  {
   "cell_type": "code",
   "execution_count": 23,
   "metadata": {},
   "outputs": [
    {
     "name": "stdout",
     "output_type": "stream",
     "text": [
      "Введите число: \n",
      "0\n",
      "Результат:  0\n"
     ]
    }
   ],
   "source": [
    "my_sum = 0\n",
    "print('Введите число: ')\n",
    "number = int(input())\n",
    "\n",
    "while number !=0:\n",
    "    my_sum += number\n",
    "    number = int(input())\n",
    "\n",
    "print('Результат: ', my_sum)"
   ]
  },
  {
   "cell_type": "markdown",
   "metadata": {},
   "source": [
    "Задание 3\n",
    "\n",
    "Мы делаем MVP dating-сервиса, и у нас есть список парней и девушек.\n",
    "Выдвигаем гипотезу: лучшие рекомендации мы получим, если просто отсортируем имена по алфавиту и познакомим людей с одинаковыми индексами после сортировки! Но мы не будем никого знакомить, если кто-то может остаться без пары."
   ]
  },
  {
   "cell_type": "code",
   "execution_count": 38,
   "metadata": {},
   "outputs": [
    {
     "name": "stdout",
     "output_type": "stream",
     "text": [
      "Идеальные пары:\n",
      "Alex и Emma\n",
      "Arthur и Kate\n",
      "John и Kira\n",
      "Peter и Liza\n",
      "Richard и Trisha\n"
     ]
    }
   ],
   "source": [
    "boys = ['Peter', 'Alex', 'John', 'Arthur', 'Richard']\n",
    "girls = ['Kate', 'Liza', 'Kira', 'Emma', 'Trisha']\n",
    "\n",
    "if len(boys)!=len(girls):\n",
    "    print('Внимание, кто-то может остаться без пары!')\n",
    "else:\n",
    "    s_boys = sorted(boys)\n",
    "    s_girls = sorted(girls)\n",
    "    print('Идеальные пары:')\n",
    "    for boy in s_boys:\n",
    "        ind = s_boys.index(boy)\n",
    "        girl = s_girls[ind]\n",
    "        print(boy, 'и', girl)\n",
    "    \n",
    "        "
   ]
  },
  {
   "cell_type": "markdown",
   "metadata": {},
   "source": [
    "Задание 4\n",
    "\n",
    "У нас есть список, содержащий информацию о среднедневной температуре в Фаренгейтах за произвольный период по странам (структура данных в примере). Необходимо написать код, который рассчитает среднюю температуру за период в Цельсиях(!) для каждой страны.\n",
    "\n",
    "Перевод Фаренгейта в Цельсия по формуле: (Фаренгейт — 32) : 1,8 = Цельсий \n",
    "Комментарий - сделала проверку в Excel, что неважно, сначала перевести в Цельсия, а потом усреднить, или сначала усреднить, а потом перевести. Поэтому делаю второй вариант."
   ]
  },
  {
   "cell_type": "code",
   "execution_count": 81,
   "metadata": {},
   "outputs": [
    {
     "name": "stdout",
     "output_type": "stream",
     "text": [
      "Средняя температура в странах:\n",
      "Thailand - 23.9 C\n",
      "Germany - 13.8 C\n",
      "Russia - 3.7 C\n",
      "Poland - 12.0 C\n"
     ]
    }
   ],
   "source": [
    "countries_temperature = [\n",
    "    ['Thailand', [75.2, 77, 78.8, 73.4, 68, 75.2, 77]],\n",
    "    ['Germany', [57.2, 55.4, 59, 59, 53.6]],\n",
    "    ['Russia', [35.6, 37.4, 39.2, 41, 42.8, 39.2, 35.6]],\n",
    "    ['Poland', [50, 50, 53.6, 57.2, 55.4, 55.4]]\n",
    "]\n",
    "\n",
    "print('Средняя температура в странах:')\n",
    "for country in countries_temperature:\n",
    "    aver = round(((sum(country[1])/len(country[1]) - 32)) / 1.8, 1) #усредняем, переводим в Цельсии, округляем\n",
    "    print(country[0], '-', aver, 'C')\n",
    "    "
   ]
  },
  {
   "cell_type": "markdown",
   "metadata": {},
   "source": [
    "Задание 5 \n",
    "\n",
    "Дан поток логов по количеству просмотренных страниц для каждого пользователя. Вам необходимо написать алгоритм, который считает среднее значение просмотров на пользователя. Т. е. надо посчитать отношение суммы всех просмотров к количеству уникальных пользователей."
   ]
  },
  {
   "cell_type": "code",
   "execution_count": 3,
   "metadata": {},
   "outputs": [
    {
     "name": "stdout",
     "output_type": "stream",
     "text": [
      "Среднее количество просмотров на уникального пользователя:  23.25\n"
     ]
    }
   ],
   "source": [
    "stream = [\n",
    "    '2018-01-01,user1,3',\n",
    "    '2018-01-07,user1,4',\n",
    "    '2018-03-29,user1,1',\n",
    "    '2018-04-04,user1,13',\n",
    "    '2018-01-05,user2,7',\n",
    "    '2018-06-14,user3,4',\n",
    "    '2018-07-02,user3,10',\n",
    "    '2018-03-21,user4,19',\n",
    "    '2018-03-22,user4,4',\n",
    "    '2018-04-22,user4,8',\n",
    "    '2018-05-03,user4,9',\n",
    "    '2018-05-11,user4,11',\n",
    "]\n",
    "\n",
    "uniq_users = []\n",
    "counter_users = 0\n",
    "sum_views = 0\n",
    "\n",
    "for element in stream:\n",
    "    my_list = element.split(',')\n",
    "    users = my_list[1]               \n",
    "    if users not in uniq_users:\n",
    "        counter_users += 1            #считаем уникальных пользователей\n",
    "        uniq_users.append(users)      #формируем список уникальных пользователей\n",
    "    sum_views += int(my_list[2])      #считаем общее количество просмотров\n",
    "\n",
    "avg_views = round((sum_views / counter_users), 2)\n",
    "print('Среднее количество просмотров на уникального пользователя: ', avg_views)"
   ]
  },
  {
   "cell_type": "code",
   "execution_count": 2,
   "metadata": {},
   "outputs": [
    {
     "name": "stdout",
     "output_type": "stream",
     "text": [
      "Среднее количество просмотров на уникального пользователя:  145.33\n"
     ]
    }
   ],
   "source": [
    "stream = [\n",
    "    '2018-01-01,user100,150',\n",
    "    '2018-01-07,user99,205',\n",
    "    '2018-03-29,user1001,81'\n",
    "]\n",
    "\n",
    "uniq_users = []\n",
    "counter_users = 0\n",
    "sum_views = 0\n",
    "\n",
    "for element in stream:\n",
    "    my_list = element.split(',')\n",
    "    users = my_list[1]               \n",
    "    if users not in uniq_users:\n",
    "        counter_users += 1            #считаем уникальных пользователей\n",
    "        uniq_users.append(users)      #формируем список уникальных пользователей\n",
    "    sum_views += int(my_list[2])      #считаем общее количество просмотров\n",
    "\n",
    "avg_views = round((sum_views / counter_users), 2)\n",
    "print('Среднее количество просмотров на уникального пользователя: ', avg_views)\n",
    "    \n"
   ]
  },
  {
   "cell_type": "markdown",
   "metadata": {},
   "source": [
    "Задание 6\n",
    "\n",
    "Необходимо у пользователя запрашивать набор чисел разделенных пробелом. В результате должны выводиться числа, которые повторяются в вводе более одного раза."
   ]
  },
  {
   "cell_type": "code",
   "execution_count": 80,
   "metadata": {},
   "outputs": [
    {
     "name": "stdout",
     "output_type": "stream",
     "text": [
      "Введите числа:\n",
      "2 2 2 3 3 3 1 1 1\n",
      "1 2 3 "
     ]
    }
   ],
   "source": [
    "print('Введите числа:')\n",
    "numbers_list = input().split(' ')\n",
    "uniq_num = []\n",
    "\n",
    "for num in numbers_list:\n",
    "    if (numbers_list.count(num) > 1) and (num not in uniq_num):\n",
    "        uniq_num.append(num)\n",
    "\n",
    "for num in sorted(uniq_num):\n",
    "    print(num, end = \" \")"
   ]
  },
  {
   "cell_type": "code",
   "execution_count": null,
   "metadata": {},
   "outputs": [],
   "source": []
  }
 ],
 "metadata": {
  "kernelspec": {
   "display_name": "Python 3",
   "language": "python",
   "name": "python3"
  },
  "language_info": {
   "codemirror_mode": {
    "name": "ipython",
    "version": 3
   },
   "file_extension": ".py",
   "mimetype": "text/x-python",
   "name": "python",
   "nbconvert_exporter": "python",
   "pygments_lexer": "ipython3",
   "version": "3.8.3"
  }
 },
 "nbformat": 4,
 "nbformat_minor": 4
}
